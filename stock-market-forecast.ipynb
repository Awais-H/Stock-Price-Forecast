{
  "cells": [
    {
      "cell_type": "markdown",
      "metadata": {},
      "source": [
        "# Stock Price Modeling: Linear Regression + MAE"
      ]
    },
    {
      "cell_type": "code",
      "execution_count": null,
      "metadata": {},
      "outputs": [],
      "source": [
        "# Visualization\n",
        "# Setup\n",
        "import warnings\n",
        "warnings.filterwarnings('ignore')\n",
        "import numpy as np\n",
        "import pandas as pd\n",
        "import yfinance as yf\n",
        "from datetime import datetime, timedelta\n",
        "from sklearn.model_selection import TimeSeriesSplit\n",
        "from sklearn.pipeline import Pipeline\n",
        "from sklearn.preprocessing import StandardScaler\n",
        "from sklearn.feature_selection import SelectKBest, f_regression, mutual_info_regression\n",
        "from sklearn.linear_model import LinearRegression\n",
        "from sklearn.metrics import mean_absolute_error\n",
        "import matplotlib.pyplot as plt\n",
        "\n",
        "pd.set_option('display.width', 150)\n",
        "pd.set_option('display.max_columns', 50)\n",
        "\n",
        "# params\n",
        "TICKER = 'AAPL'        \n",
        "PERIOD = '5y'         \n",
        "INTERVAL = '1d'        \n",
        "TARGET_COL = 'Close'   # predict next-day close\n",
        "TEST_SPLIT_RATIO = 0.2 # last 20% of samples for final holdout\n",
        "N_FEATURES = 15        # cap on number of features after selection\n"
      ]
    },
    {
      "cell_type": "code",
      "execution_count": null,
      "metadata": {},
      "outputs": [],
      "source": [
        "# Data\n",
        "raw = yf.download(TICKER, period=PERIOD, interval=INTERVAL, auto_adjust=False, progress=False)\n",
        "if raw.empty:\n",
        "    raise RuntimeError('No data returned. Check ticker or network access.')\n",
        "df = raw.copy()\n",
        "df = df.dropna().rename_axis('Date').reset_index()\n",
        "df.head()"
      ]
    },
    {
      "cell_type": "markdown",
      "metadata": {},
      "source": [
        "## Features"
      ]
    },
    {
      "cell_type": "code",
      "execution_count": null,
      "metadata": {},
      "outputs": [],
      "source": [
        "def rsi(series, window=14):\n",
        "    delta = series.diff()\n",
        "    up = delta.clip(lower=0)\n",
        "    down = -1 * delta.clip(upper=0)\n",
        "    roll_up = up.ewm(alpha=1/window, adjust=False).mean()\n",
        "    roll_down = down.ewm(alpha=1/window, adjust=False).mean()\n",
        "    rs = roll_up / (roll_down + 1e-9)\n",
        "    return 100 - (100 / (1 + rs))\n",
        "\n",
        "def make_features(df: pd.DataFrame) -> pd.DataFrame:\n",
        "    out = df.copy()\n",
        "    # basic returns\n",
        "    out['ret_1d'] = out[TARGET_COL].pct_change()\n",
        "    out['ret_5d'] = out[TARGET_COL].pct_change(5)\n",
        "    out['ret_10d'] = out[TARGET_COL].pct_change(10)\n",
        "    # moving averages / momentum\n",
        "    for w in [5, 10, 20, 50, 100, 200]:\n",
        "        out[f'sma_{w}'] = out[TARGET_COL].rolling(w).mean()\n",
        "        out[f'ema_{w}'] = out[TARGET_COL].ewm(span=w, adjust=False).mean()\n",
        "        out[f'sma_ratio_{w}'] = out[TARGET_COL] / (out[f'sma_{w}'] + 1e-9)\n",
        "    # volatility proxies\n",
        "    out['hl_range'] = (out['High'] - out['Low']) / (out['Close'] + 1e-9)\n",
        "    out['atr_14'] = (out[['High','Low','Close']]\n",
        "                     .assign(prev_close=out['Close'].shift(1))\n",
        "                     .pipe(lambda d: pd.concat([\n",
        "                         (d['High']-d['Low']).abs(),\n",
        "                         (d['High']-d['prev_close']).abs(),\n",
        "                         (d['Low']-d['prev_close']).abs()\n",
        "                     ], axis=1).max(axis=1))\n",
        "                     .rolling(14).mean())\n",
        "    # RSI + rolling std\n",
        "    out['rsi_14'] = rsi(out[TARGET_COL], 14)\n",
        "    out['std_10'] = out[TARGET_COL].rolling(10).std()\n",
        "    out['std_20'] = out[TARGET_COL].rolling(20).std()\n",
        "    # volume-related\n",
        "    out['vol_chg'] = out['Volume'].pct_change()\n",
        "    out['vwap_proxy'] = (out['High'] + out['Low'] + out['Close']) / 3.0\n",
        "    # lags\n",
        "    for l in [1,2,3,5,10]:\n",
        " \n",
        "        out[f'lag_{l}'] = out[TARGET_COL].shift(l)\n",
        "    # target: next day close\n",
        "    out['y'] = out[TARGET_COL].shift(-1)\n",
        "    return out\n",
        "\n",
        "feat = make_features(df).dropna().reset_index(drop=True)\n",
        "feat.head()"
      ]
    },
    {
      "cell_type": "markdown",
      "metadata": {},
      "source": [
        "## Train / Validate"
      ]
    },
    {
      "cell_type": "code",
      "execution_count": null,
      "metadata": {},
      "outputs": [],
      "source": [
        "all_features = [c for c in feat.columns if c not in ['Date', 'y'] and not c.endswith('_y')]\n",
        "X = feat[all_features].values\n",
        "y = feat['y'].values\n",
        "\n",
        "# chronological split\n",
        "n = len(feat)\n",
        "split_idx = int(n * (1 - TEST_SPLIT_RATIO))\n",
        "X_train, X_test = X[:split_idx], X[split_idx:]\n",
        "y_train, y_test = y[:split_idx], y[split_idx:]\n",
        "dates_test = feat.loc[split_idx:, 'Date']\n",
        "\n",
        "# feature selection + linear model\n",
        "tscv = TimeSeriesSplit(n_splits=5)\n",
        "selector = SelectKBest(score_func=f_regression, k=min(N_FEATURES, X_train.shape[1]))\n",
        "pipe = Pipeline([\n",
        "    ('scaler', StandardScaler()),\n",
        "    ('select', selector),\n",
        "    ('lr', LinearRegression())\n",
        "])\n",
        "\n",
        "# fit on train; simple CV just to sanity-check (no hyperparams here)\n",
        "pipe.fit(X_train, y_train)\n",
        "pred = pipe.predict(X_test)\n",
        "mae = mean_absolute_error(y_test, pred)\n",
        "print(f\"Holdout MAE: {mae:,.4f}\")\n",
        "\n",
        "# chosen features\n",
        "mask = selector.get_support(indices=True)\n",
        "selected_cols = [all_features[i] for i in mask]\n",
        "print('Selected features:', selected_cols)\n"
      ]
    },
    {
      "cell_type": "markdown",
      "metadata": {},
      "source": [
        "## Diagnostics"
      ]
    },
    {
      "cell_type": "code",
      "execution_count": null,
      "metadata": {},
      "outputs": [],
      "source": [
        "plt.figure()\n",
        "plt.plot(dates_test.values, y_test, label='Actual')\n",
        "plt.plot(dates_test.values, pred, label='Predicted')\n",
        "plt.legend()\n",
        "plt.title(f'{TICKER} – Actual vs Predicted (Holdout)')\n",
        "plt.xticks(rotation=45)\n",
        "plt.tight_layout()\n",
        "plt.show()\n",
        "\n",
        "# error distribution\n",
        "err = y_test - pred\n",
        "plt.figure()\n",
        "plt.hist(err, bins=50)\n",
        "plt.title('Residuals (Holdout)')\n",
        "plt.tight_layout()\n",
        "plt.show()"
      ]
    },
    {
      "cell_type": "markdown",
      "metadata": {},
      "source": [
        "## One-step-ahead forecast"
      ]
    },
    {
      "cell_type": "code",
      "execution_count": null,
      "metadata": {},
      "outputs": [],
      "source": [
        "# refit on all data and predict next day close using last row's features\n",
        "X_all = feat[all_features].values\n",
        "y_all = feat['y'].values\n",
        "pipe.fit(X_all, y_all)\n",
        "\n",
        "last_row = X_all[-1:]\n",
        "next_close_pred = pipe.predict(last_row)[0]\n",
        "print(f\"Next-day predicted close for {TICKER}: {next_close_pred:,.4f}\")"
      ]
    },
    {
      "cell_type": "markdown",
      "metadata": {},
      "source": [
        "### Notes\n",
        "- No leakage (target is next-day close).\n",
        "- Feature cap via `SelectKBest` keeps it tight; swap in `mutual_info_regression` if nonlinearity dominates.\n",
        "- Real trading needs slippage/transaction costs and robust backtesting; this is a point-forecast demo.\n",
        "- If you want more stability, consider regularized linear models (Ridge/Lasso) with `TimeSeriesSplit` grid search."
      ]
    }
  ],
  "metadata": {
    "kernelspec": {
      "display_name": "Python 3",
      "language": "python",
      "name": "python3"
    },
    "language_info": {
      "name": "python",
      "version": "3.13.6"
    }
  },
  "nbformat": 4,
  "nbformat_minor": 5
}